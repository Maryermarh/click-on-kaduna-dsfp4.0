{
  "cells": [
    {
      "cell_type": "markdown",
      "metadata": {
        "id": "view-in-github",
        "colab_type": "text"
      },
      "source": [
        "<a href=\"https://colab.research.google.com/github/Maryermarh/click-on-kaduna-dsfp4.0/blob/main/Assignment_compiled.ipynb\" target=\"_parent\"><img src=\"https://colab.research.google.com/assets/colab-badge.svg\" alt=\"Open In Colab\"/></a>"
      ]
    },
    {
      "cell_type": "markdown",
      "id": "7af1ec32-e580-45c2-a173-ca79a04fb2c0",
      "metadata": {
        "id": "7af1ec32-e580-45c2-a173-ca79a04fb2c0"
      },
      "source": [
        "## Day 1"
      ]
    },
    {
      "cell_type": "markdown",
      "id": "66617b2a-1ab8-4ff5-97f5-1856a048023b",
      "metadata": {
        "jp-MarkdownHeadingCollapsed": true,
        "id": "66617b2a-1ab8-4ff5-97f5-1856a048023b"
      },
      "source": [
        "#### ONE-DIMENSIONAL ARRAY"
      ]
    },
    {
      "cell_type": "code",
      "execution_count": null,
      "id": "ab43c345-8a0b-4334-a2ea-772b7a008a53",
      "metadata": {
        "id": "ab43c345-8a0b-4334-a2ea-772b7a008a53"
      },
      "outputs": [],
      "source": [
        "import numpy as np"
      ]
    },
    {
      "cell_type": "code",
      "execution_count": null,
      "id": "88d1b611-13e0-4d06-99c6-fa5e61caa60e",
      "metadata": {
        "id": "88d1b611-13e0-4d06-99c6-fa5e61caa60e",
        "outputId": "9161dd5d-5b7c-4181-9b2f-bc1d2c50dff8",
        "colab": {
          "base_uri": "https://localhost:8080/"
        }
      },
      "outputs": [
        {
          "output_type": "execute_result",
          "data": {
            "text/plain": [
              "36.0"
            ]
          },
          "metadata": {},
          "execution_count": 3
        }
      ],
      "source": [
        "#Question 1\n",
        "patient_age_array = np.array([25, 30, 40, 22, 35, 50, 29, 60, 41, 28])\n",
        "\n",
        "#Find the average age of the patients\n",
        "np.mean(patient_age_array)"
      ]
    },
    {
      "cell_type": "code",
      "execution_count": null,
      "id": "203df1fa-74e6-441e-960c-bd19d8468597",
      "metadata": {
        "id": "203df1fa-74e6-441e-960c-bd19d8468597",
        "outputId": "2af75e54-eefe-4e65-81d2-35bd84035a19",
        "colab": {
          "base_uri": "https://localhost:8080/"
        }
      },
      "outputs": [
        {
          "output_type": "execute_result",
          "data": {
            "text/plain": [
              "300"
            ]
          },
          "metadata": {},
          "execution_count": 4
        }
      ],
      "source": [
        "#Question 2\n",
        "cholestorol_level = np.array([210, 180, 230, 250, 300, 220, 200, 190])\n",
        "\n",
        "#Identify the highest cholesterol level from the list\n",
        "np.max(cholestorol_level)"
      ]
    },
    {
      "cell_type": "code",
      "execution_count": null,
      "id": "eed87651-7232-43e7-bfd6-d93fe2645e6b",
      "metadata": {
        "id": "eed87651-7232-43e7-bfd6-d93fe2645e6b",
        "outputId": "3b4e243b-0fb4-4237-a333-8c9e0c559c97",
        "colab": {
          "base_uri": "https://localhost:8080/"
        }
      },
      "outputs": [
        {
          "output_type": "execute_result",
          "data": {
            "text/plain": [
              "11.055415967851333"
            ]
          },
          "metadata": {},
          "execution_count": 5
        }
      ],
      "source": [
        "#Question 3\n",
        "bp_reading = np.array([120, 130, 140, 135, 125, 110, 145, 120, 130, 140, 150, 135])\n",
        "\n",
        "#Find the standard deviation of blood pressure readings\n",
        "np.std(bp_reading)"
      ]
    },
    {
      "cell_type": "code",
      "execution_count": null,
      "id": "cf48b331-c30f-468e-8bac-dc07751f26ee",
      "metadata": {
        "id": "cf48b331-c30f-468e-8bac-dc07751f26ee",
        "outputId": "6a9a49e4-1ef5-4849-8d0c-c8d851ec8e6f",
        "colab": {
          "base_uri": "https://localhost:8080/"
        }
      },
      "outputs": [
        {
          "output_type": "execute_result",
          "data": {
            "text/plain": [
              "37.1"
            ]
          },
          "metadata": {},
          "execution_count": 6
        }
      ],
      "source": [
        "#Question 4\n",
        "patient_temp = np.array([37.1, 36.5, 37.3, 36.8, 37.0, 38.0, 36.7, 37.2, 36.9, 37.5])\n",
        "\n",
        "#Calculate the mean temperature for the patient\n",
        "np.mean(patient_temp)"
      ]
    },
    {
      "cell_type": "code",
      "execution_count": null,
      "id": "5c574225-fef1-4e34-b1c0-79fea8514dd1",
      "metadata": {
        "id": "5c574225-fef1-4e34-b1c0-79fea8514dd1",
        "outputId": "e2847bdc-2eaf-4abe-ff90-ad34ad05dc88",
        "colab": {
          "base_uri": "https://localhost:8080/"
        }
      },
      "outputs": [
        {
          "output_type": "execute_result",
          "data": {
            "text/plain": [
              "array([80, 66, 68, 70, 75, 82, 58, 65, 72, 60])"
            ]
          },
          "metadata": {},
          "execution_count": 7
        }
      ],
      "source": [
        "#Question 5\n",
        "patient_weight = np.array([60, 72, 65, 58, 82, 75, 70, 68, 66, 80])\n",
        "\n",
        "#Return the reversed order of weights\n",
        "reverse_weight = patient_weight[::-1]\n",
        "reverse_weight"
      ]
    },
    {
      "cell_type": "markdown",
      "id": "3a94f530-5998-4dc7-bdd7-6d35eabf9c4d",
      "metadata": {
        "jp-MarkdownHeadingCollapsed": true,
        "id": "3a94f530-5998-4dc7-bdd7-6d35eabf9c4d"
      },
      "source": [
        "#### TWO DIMENSIONAL ARRAY"
      ]
    },
    {
      "cell_type": "code",
      "execution_count": null,
      "id": "93f652f3-a637-428f-b71b-87afbc6ae831",
      "metadata": {
        "id": "93f652f3-a637-428f-b71b-87afbc6ae831",
        "outputId": "5c43bf0a-9da8-4a89-c70e-2a77f5dc5303",
        "colab": {
          "base_uri": "https://localhost:8080/"
        }
      },
      "outputs": [
        {
          "output_type": "execute_result",
          "data": {
            "text/plain": [
              "130"
            ]
          },
          "metadata": {},
          "execution_count": 8
        }
      ],
      "source": [
        "# Question 6 - 9\n",
        "patient_data = np.array([[25, 70, 120],\n",
        "                        [30, 80, 130],\n",
        "                        [40, 85, 140]])\n",
        "\n",
        "#Access the blood pressure of the second patient (use index)\n",
        "patient_data[1,-1]"
      ]
    },
    {
      "cell_type": "code",
      "execution_count": null,
      "id": "85f65508-6c6e-4134-8a17-2e1d25be7b53",
      "metadata": {
        "id": "85f65508-6c6e-4134-8a17-2e1d25be7b53",
        "outputId": "5e3deefa-55bf-449e-9a06-b17d9bdafd89",
        "colab": {
          "base_uri": "https://localhost:8080/"
        }
      },
      "outputs": [
        {
          "output_type": "execute_result",
          "data": {
            "text/plain": [
              "array([24.7, 25.7, 25. , 24.8])"
            ]
          },
          "metadata": {},
          "execution_count": 9
        }
      ],
      "source": [
        "#Question 10 - 14\n",
        "blood_tests = np.array([[5.6, 7.1, 6.2, 5.8],\n",
        "[5.3, 6.9, 7.0, 6.5],\n",
        "[5.7, 6.5, 6.8, 6.0],\n",
        "[5.4, 7.0, 6.5, 5.9]])\n",
        "\n",
        "\n",
        "#The sum of values across each row (representing total test results for each patient)\n",
        "sum_bloodtests = np.sum(blood_tests, axis = 1)\n",
        "sum_bloodtests"
      ]
    },
    {
      "cell_type": "code",
      "execution_count": null,
      "id": "f9e0e6e5-d4c7-4fb4-8059-8ed8c3ad4d5e",
      "metadata": {
        "id": "f9e0e6e5-d4c7-4fb4-8059-8ed8c3ad4d5e",
        "outputId": "77747e6c-fd5e-4f6c-c5b8-08dd4a77c413",
        "colab": {
          "base_uri": "https://localhost:8080/"
        }
      },
      "outputs": [
        {
          "output_type": "execute_result",
          "data": {
            "text/plain": [
              "88.53333333333333"
            ]
          },
          "metadata": {},
          "execution_count": 10
        }
      ],
      "source": [
        "#Question 15 - 20\n",
        "patient_sugar = np.array([[80, 85, 90],\n",
        "[95, 92, 88],\n",
        "[85, 83, 82],\n",
        "[100, 105, 110],\n",
        "[75, 78, 80]])\n",
        "\n",
        "\n",
        "#Find the average blood sugar level for the 3rd patient across all visits\n",
        "average_sugar = np.mean(patient_sugar)\n",
        "average_sugar"
      ]
    },
    {
      "cell_type": "code",
      "execution_count": null,
      "id": "aef07b38-2350-436b-980e-13a4031d0aed",
      "metadata": {
        "id": "aef07b38-2350-436b-980e-13a4031d0aed",
        "outputId": "d8288b14-028d-4283-8708-678b0dd7f4dc",
        "colab": {
          "base_uri": "https://localhost:8080/"
        }
      },
      "outputs": [
        {
          "output_type": "execute_result",
          "data": {
            "text/plain": [
              "array([[1326., 1410.],\n",
              "       [1946., 1960.],\n",
              "       [1696., 1672.]])"
            ]
          },
          "metadata": {},
          "execution_count": 11
        }
      ],
      "source": [
        "#Question 21 - 24\n",
        "BMI = np.array([\n",
        "    [22.1, 23.5],\n",
        "    [27.8, 28.0],\n",
        "    [21.2, 20.9]\n",
        "])\n",
        "# Perform the element-wise multiplication of BMI and weight (use a weight array: [60, 70, 80])\n",
        "\n",
        "Weight = np.array([60, 70, 80]).reshape(-1, 1)  # Reshape to column vector\n",
        "\n",
        "# Element-wise multiplication\n",
        "result = BMI * Weight\n",
        "result"
      ]
    },
    {
      "cell_type": "code",
      "execution_count": null,
      "id": "a869c499-71bf-48e4-ac5d-86023a9dc9e2",
      "metadata": {
        "id": "a869c499-71bf-48e4-ac5d-86023a9dc9e2",
        "outputId": "87c15f61-3fb0-4d8a-eac2-df53622b3f40",
        "colab": {
          "base_uri": "https://localhost:8080/"
        }
      },
      "outputs": [
        {
          "output_type": "stream",
          "name": "stdout",
          "text": [
            "Maximum temperature for each patient: [37.1 37.3]\n"
          ]
        }
      ],
      "source": [
        "#Question 25 - 27\n",
        "temperature_data = np.array([\n",
        "    [37.0, 36.5, 37.1, 36.9, 37.0],\n",
        "    [36.8, 37.3, 37.0, 36.7, 37.2]\n",
        "])\n",
        "# Find the maximum temperature for each patient\n",
        "max_temperature = np.max(temperature_data, axis=1)\n",
        "print(\"Maximum temperature for each patient:\", max_temperature)"
      ]
    },
    {
      "cell_type": "markdown",
      "id": "b0b5357d-d304-4989-a13d-55b516414fcb",
      "metadata": {
        "jp-MarkdownHeadingCollapsed": true,
        "id": "b0b5357d-d304-4989-a13d-55b516414fcb"
      },
      "source": [
        "## Day 2"
      ]
    },
    {
      "cell_type": "markdown",
      "id": "a4400f47-4c8a-468f-a77c-6fa4cb41ab07",
      "metadata": {
        "jp-MarkdownHeadingCollapsed": true,
        "id": "a4400f47-4c8a-468f-a77c-6fa4cb41ab07"
      },
      "source": [
        "#### SERIES"
      ]
    },
    {
      "cell_type": "code",
      "execution_count": null,
      "id": "00efcf51-809f-4bc3-a5ca-7bd260202faa",
      "metadata": {
        "id": "00efcf51-809f-4bc3-a5ca-7bd260202faa"
      },
      "outputs": [],
      "source": [
        "import pandas as pd"
      ]
    },
    {
      "cell_type": "code",
      "execution_count": null,
      "id": "c39eae4b-cf45-49ce-90c2-c8cbe45b34f6",
      "metadata": {
        "id": "c39eae4b-cf45-49ce-90c2-c8cbe45b34f6",
        "outputId": "f3d456b1-a55a-4a54-be96-994f2dbb68bc",
        "colab": {
          "base_uri": "https://localhost:8080/"
        }
      },
      "outputs": [
        {
          "output_type": "stream",
          "name": "stdout",
          "text": [
            "maximum BP = 140 \n",
            "minimum BP = 120\n"
          ]
        }
      ],
      "source": [
        "#Question 1\n",
        "bp_readings = pd.Series([120, 130, 140, 135, 125])\n",
        "\n",
        "#Find the maximum and minimum blood pressure values\n",
        "min_bp = bp_readings.min()\n",
        "max_bp = bp_readings.max()\n",
        "print(f'maximum BP = {max_bp} \\nminimum BP = {min_bp}')"
      ]
    },
    {
      "cell_type": "code",
      "execution_count": null,
      "id": "ffa5e63a-4700-48d3-b603-0a0da97cebfd",
      "metadata": {
        "id": "ffa5e63a-4700-48d3-b603-0a0da97cebfd",
        "outputId": "2522d80a-48da-48f5-f546-c8fddf3dbdb3",
        "colab": {
          "base_uri": "https://localhost:8080/",
          "height": 147
        }
      },
      "outputs": [
        {
          "output_type": "execute_result",
          "data": {
            "text/plain": [
              "3    250\n",
              "4    280\n",
              "dtype: int64"
            ],
            "text/html": [
              "<div>\n",
              "<style scoped>\n",
              "    .dataframe tbody tr th:only-of-type {\n",
              "        vertical-align: middle;\n",
              "    }\n",
              "\n",
              "    .dataframe tbody tr th {\n",
              "        vertical-align: top;\n",
              "    }\n",
              "\n",
              "    .dataframe thead th {\n",
              "        text-align: right;\n",
              "    }\n",
              "</style>\n",
              "<table border=\"1\" class=\"dataframe\">\n",
              "  <thead>\n",
              "    <tr style=\"text-align: right;\">\n",
              "      <th></th>\n",
              "      <th>0</th>\n",
              "    </tr>\n",
              "  </thead>\n",
              "  <tbody>\n",
              "    <tr>\n",
              "      <th>3</th>\n",
              "      <td>250</td>\n",
              "    </tr>\n",
              "    <tr>\n",
              "      <th>4</th>\n",
              "      <td>280</td>\n",
              "    </tr>\n",
              "  </tbody>\n",
              "</table>\n",
              "</div><br><label><b>dtype:</b> int64</label>"
            ]
          },
          "metadata": {},
          "execution_count": 15
        }
      ],
      "source": [
        "#Question 2\n",
        "cholestorol_level_s= pd.Series([210, 180, 220, 250, 280, 230])\n",
        "\n",
        "#Filter patients with cholesterol levels above 240\n",
        "cholestorol_level_s[cholestorol_level_s > 240]"
      ]
    },
    {
      "cell_type": "code",
      "execution_count": null,
      "id": "d6ce033a-e8ab-4c9d-a01a-5b51fb7593cb",
      "metadata": {
        "id": "d6ce033a-e8ab-4c9d-a01a-5b51fb7593cb",
        "outputId": "fbf5b0f1-f069-481e-c956-3a0a7339e28d",
        "colab": {
          "base_uri": "https://localhost:8080/"
        }
      },
      "outputs": [
        {
          "output_type": "execute_result",
          "data": {
            "text/plain": [
              "47.5"
            ]
          },
          "metadata": {},
          "execution_count": 16
        }
      ],
      "source": [
        "#Question 3\n",
        "patient_ages = pd.Series([35, 40, 25, 30, 45, 50, 55, 60, 65, 70])\n",
        "\n",
        "#Calculate the median age of the patients\n",
        "patient_ages.median()"
      ]
    },
    {
      "cell_type": "code",
      "execution_count": null,
      "id": "eabfefa0-a998-44b8-b741-d80bd5383055",
      "metadata": {
        "id": "eabfefa0-a998-44b8-b741-d80bd5383055",
        "outputId": "0caa7cbf-59af-468e-a7e1-98d38be3de82",
        "colab": {
          "base_uri": "https://localhost:8080/",
          "height": 241
        }
      },
      "outputs": [
        {
          "output_type": "execute_result",
          "data": {
            "text/plain": [
              "0    75\n",
              "1    85\n",
              "2    80\n",
              "3    70\n",
              "4    90\n",
              "dtype: int64"
            ],
            "text/html": [
              "<div>\n",
              "<style scoped>\n",
              "    .dataframe tbody tr th:only-of-type {\n",
              "        vertical-align: middle;\n",
              "    }\n",
              "\n",
              "    .dataframe tbody tr th {\n",
              "        vertical-align: top;\n",
              "    }\n",
              "\n",
              "    .dataframe thead th {\n",
              "        text-align: right;\n",
              "    }\n",
              "</style>\n",
              "<table border=\"1\" class=\"dataframe\">\n",
              "  <thead>\n",
              "    <tr style=\"text-align: right;\">\n",
              "      <th></th>\n",
              "      <th>0</th>\n",
              "    </tr>\n",
              "  </thead>\n",
              "  <tbody>\n",
              "    <tr>\n",
              "      <th>0</th>\n",
              "      <td>75</td>\n",
              "    </tr>\n",
              "    <tr>\n",
              "      <th>1</th>\n",
              "      <td>85</td>\n",
              "    </tr>\n",
              "    <tr>\n",
              "      <th>2</th>\n",
              "      <td>80</td>\n",
              "    </tr>\n",
              "    <tr>\n",
              "      <th>3</th>\n",
              "      <td>70</td>\n",
              "    </tr>\n",
              "    <tr>\n",
              "      <th>4</th>\n",
              "      <td>90</td>\n",
              "    </tr>\n",
              "  </tbody>\n",
              "</table>\n",
              "</div><br><label><b>dtype:</b> int64</label>"
            ]
          },
          "metadata": {},
          "execution_count": 17
        }
      ],
      "source": [
        "#Question 4\n",
        "weight = pd.Series([70, 80, 75, 65, 85])\n",
        "\n",
        "#Add 5 kg to each patient’s weight\n",
        "weight += 5\n",
        "weight"
      ]
    },
    {
      "cell_type": "code",
      "execution_count": null,
      "id": "aa73485f-aa77-4036-b2e6-5d0540e4ffec",
      "metadata": {
        "id": "aa73485f-aa77-4036-b2e6-5d0540e4ffec",
        "outputId": "0b26afe1-f6f8-4aae-a262-48eb2fdf4b2e",
        "colab": {
          "base_uri": "https://localhost:8080/"
        }
      },
      "outputs": [
        {
          "output_type": "execute_result",
          "data": {
            "text/plain": [
              "37.17999999999999"
            ]
          },
          "metadata": {},
          "execution_count": 18
        }
      ],
      "source": [
        "#Question 5\n",
        "temp_patient = pd.Series([37.2, 36.8, 37.5, 38.0, 36.6, 37.1, 36.9, 37.3, 37.4, 37.0])\n",
        "\n",
        "#Calculate the average temperature of all 10 patients\n",
        "temp_patient.mean()"
      ]
    },
    {
      "cell_type": "markdown",
      "id": "b7fb54b4-7922-477f-9bc9-88f1fca01989",
      "metadata": {
        "jp-MarkdownHeadingCollapsed": true,
        "id": "b7fb54b4-7922-477f-9bc9-88f1fca01989"
      },
      "source": [
        "#### DATAFRAME"
      ]
    },
    {
      "cell_type": "code",
      "execution_count": 28,
      "id": "9a0ead2e-14ad-480b-837a-9669be1cdb70",
      "metadata": {
        "colab": {
          "base_uri": "https://localhost:8080/"
        },
        "id": "9a0ead2e-14ad-480b-837a-9669be1cdb70",
        "outputId": "9db47d8a-e376-4696-aa93-41bff8a14ce0"
      },
      "outputs": [
        {
          "output_type": "stream",
          "name": "stdout",
          "text": [
            "    Name  Age  Blood Pressure  Cholesterol\n",
            "0   John   28             120          200\n",
            "1   Jane   34             130          220\n",
            "2    Tom   45             140          240\n",
            "3  Alice   52             150          260\n"
          ]
        }
      ],
      "source": [
        "#Question 6\n",
        "# Creating the data dictionary\n",
        "data = {\n",
        "    'Name': ['John', 'Jane', 'Tom', 'Alice'],\n",
        "    'Age': [28, 34, 45, 52],\n",
        "    'Blood Pressure': [120, 130, 140, 150],\n",
        "    'Cholesterol': [200, 220, 240, 260]}\n",
        "\n",
        "# Creating the DataFrame\n",
        "df = pd.DataFrame(data)\n",
        "\n",
        "# Display the DataFrame\n",
        "print(df)"
      ]
    },
    {
      "cell_type": "code",
      "source": [
        "#cont. of question 6 -10\n",
        "#filtered_df = df[df['Cholesterol'] > 220]\n",
        "\n",
        "greather_than_df = df[df['Cholesterol'] > 220]\n",
        "print (greather_than_df)\n",
        "\n"
      ],
      "metadata": {
        "colab": {
          "base_uri": "https://localhost:8080/"
        },
        "id": "nESvY3Dq3v2H",
        "outputId": "fd9bb5eb-47e5-4eff-d556-720b201e4068"
      },
      "id": "nESvY3Dq3v2H",
      "execution_count": 30,
      "outputs": [
        {
          "output_type": "stream",
          "name": "stdout",
          "text": [
            "    Name  Age  Blood Pressure  Cholesterol\n",
            "2    Tom   45             140          240\n",
            "3  Alice   52             150          260\n"
          ]
        }
      ]
    },
    {
      "cell_type": "code",
      "source": [],
      "metadata": {
        "id": "9tzby6Ia3v5l"
      },
      "id": "9tzby6Ia3v5l",
      "execution_count": null,
      "outputs": []
    },
    {
      "cell_type": "code",
      "execution_count": 31,
      "id": "c13cb2b0-2c79-49b8-9435-15f0ed962109",
      "metadata": {
        "colab": {
          "base_uri": "https://localhost:8080/"
        },
        "id": "c13cb2b0-2c79-49b8-9435-15f0ed962109",
        "outputId": "21d06ff5-a8a5-4f15-a614-ca071d9f6b1a"
      },
      "outputs": [
        {
          "output_type": "stream",
          "name": "stdout",
          "text": [
            "    Name  Age  Height  Weight  Blood Pressure        BMI\n",
            "0   John   28    1.75      70             120  22.857143\n",
            "1   Jane   34    1.60      80             130  31.250000\n",
            "2    Tom   45    1.80      90             140  27.777778\n",
            "3  Alice   52    1.65      85             150  31.221304\n"
          ]
        }
      ],
      "source": [
        "#Question 11\n",
        "data_patient_info = {\n",
        "    'Name': ['John', 'Jane', 'Tom', 'Alice'],\n",
        "    'Age': [28, 34, 45, 52],\n",
        "    'Height': [1.75, 1.60, 1.80, 1.65],  # Height in meters\n",
        "    'Weight': [70, 80, 90, 85],  # Weight in kilograms\n",
        "    'Blood Pressure': [120, 130, 140, 150]\n",
        "}\n",
        "\n",
        "# Creating the DataFrame\n",
        "df = pd.DataFrame(data_patient_info)\n",
        "\n",
        "# Calculating BMI (BMI = Weight / (Height^2))\n",
        "df['BMI'] = df['Weight'] / (df['Height'] ** 2)\n",
        "\n",
        "# Display the updated DataFrame\n",
        "print(df)"
      ]
    },
    {
      "cell_type": "code",
      "execution_count": 32,
      "id": "ebfd8738-e097-4a32-a611-86ad4e9e2917",
      "metadata": {
        "colab": {
          "base_uri": "https://localhost:8080/"
        },
        "id": "ebfd8738-e097-4a32-a611-86ad4e9e2917",
        "outputId": "f1984a54-74cb-4525-9b0b-63d9ef65594b"
      },
      "outputs": [
        {
          "output_type": "stream",
          "name": "stdout",
          "text": [
            "   Test ID Patient Name  Result\n",
            "1        2         Jane     6.1\n",
            "3        4        Alice     6.3\n"
          ]
        }
      ],
      "source": [
        "# Question 12 - 15\n",
        "\n",
        "\n",
        "# Creating the data dictionary with patient blood test results\n",
        "data_blood_test1 = {\n",
        "    'Test ID': [1, 2, 3, 4],\n",
        "    'Patient Name': ['John', 'Jane', 'Tom', 'Alice'],\n",
        "    'Result': [5.6, 6.1, 5.8, 6.3]\n",
        "}\n",
        "\n",
        "# Creating the DataFrame\n",
        "df = pd.DataFrame(data_blood_test1)\n",
        "\n",
        "# Filtering patients with a test result greater than 6.0\n",
        "filtered_df = df[df['Result'] > 6.0]\n",
        "\n",
        "# Display the filtered DataFrame\n",
        "print(filtered_df)"
      ]
    },
    {
      "cell_type": "code",
      "execution_count": 33,
      "id": "312842d1-6e44-4c53-bafc-66c902dc90ac",
      "metadata": {
        "id": "312842d1-6e44-4c53-bafc-66c902dc90ac",
        "colab": {
          "base_uri": "https://localhost:8080/"
        },
        "outputId": "ada4cb95-5bb8-46f5-d8bc-2be2c72d893c"
      },
      "outputs": [
        {
          "output_type": "stream",
          "name": "stdout",
          "text": [
            "Age       39.75\n",
            "Weight    81.25\n",
            "Height     1.70\n",
            "dtype: float64\n"
          ]
        }
      ],
      "source": [
        "#Question 16\n",
        "# Creating the data dictionary with patient age, weight, and height\n",
        "data_patince_BMI = {\n",
        "    'Age': [28, 34, 45, 52],\n",
        "    'Weight': [70, 80, 90, 85],\n",
        "    'Height': [1.75, 1.60, 1.80, 1.65]\n",
        "}\n",
        "\n",
        "# Creating the DataFrame\n",
        "df = pd.DataFrame(data_patince_BMI)\n",
        "\n",
        "# Calculating the average of each column using df.mean()\n",
        "average_values = df.mean()\n",
        "\n",
        "# Display the averages\n",
        "print(average_values)\n"
      ]
    },
    {
      "cell_type": "code",
      "execution_count": 34,
      "id": "5eb85fcd-8e4f-43e1-823e-b2772a64df8e",
      "metadata": {
        "id": "5eb85fcd-8e4f-43e1-823e-b2772a64df8e",
        "colab": {
          "base_uri": "https://localhost:8080/"
        },
        "outputId": "703df618-9bba-4b17-9f90-277520be6078"
      },
      "outputs": [
        {
          "output_type": "stream",
          "name": "stdout",
          "text": [
            "  Patient Name Treatment Type Treatment Date\n",
            "0         John        Surgery     2022-01-01\n",
            "2          Tom        Surgery     2022-03-01\n"
          ]
        }
      ],
      "source": [
        "#Question 17 - 20\n",
        " #Creating the data dictionary with treatment details\n",
        "\n",
        "surgery_treatment = {\n",
        "    'Patient Name': ['John', 'Jane', 'Tom', 'Alice'],\n",
        "    'Treatment Type': ['Surgery', 'Consultation', 'Surgery', 'Consultation'],\n",
        "    'Treatment Date': ['2022-01-01', '2022-02-01', '2022-03-01', '2022-04-01']\n",
        "}\n",
        "\n",
        "# Creating the DataFrame\n",
        "df = pd.DataFrame(surgery_treatment)\n",
        "\n",
        "# Filtering records where the treatment type is \"Surgery\"\n",
        "surgery_records = df[df['Treatment Type'] == 'Surgery']\n",
        "\n",
        "# Display the filtered records\n",
        "print(surgery_records)"
      ]
    },
    {
      "cell_type": "code",
      "execution_count": null,
      "id": "f0b5d26d-fa80-48fe-ab61-c32e7566034b",
      "metadata": {
        "id": "f0b5d26d-fa80-48fe-ab61-c32e7566034b"
      },
      "outputs": [],
      "source": []
    }
  ],
  "metadata": {
    "kernelspec": {
      "display_name": "Python 3 (ipykernel)",
      "language": "python",
      "name": "python3"
    },
    "language_info": {
      "codemirror_mode": {
        "name": "ipython",
        "version": 3
      },
      "file_extension": ".py",
      "mimetype": "text/x-python",
      "name": "python",
      "nbconvert_exporter": "python",
      "pygments_lexer": "ipython3",
      "version": "3.11.7"
    },
    "colab": {
      "provenance": [],
      "include_colab_link": true
    }
  },
  "nbformat": 4,
  "nbformat_minor": 5
}